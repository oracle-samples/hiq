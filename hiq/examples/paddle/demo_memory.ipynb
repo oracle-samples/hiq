{
 "cells": [
  {
   "cell_type": "markdown",
   "metadata": {},
   "source": [
    "# Add Observability to PaddleOCR by HiQ\n",
    "\n",
    "The following main.py code is from PaddleOCR's official website [chinese-english-model-and-multilingual-model](https://github.com/PaddlePaddle/PaddleOCR/blob/release/2.4/doc/doc_en/quickstart_en.md#221-chinese--english-model-and-multilingual-model)\n",
    "\n"
   ]
  },
  {
   "cell_type": "code",
   "execution_count": 1,
   "metadata": {},
   "outputs": [
    {
     "name": "stdout",
     "output_type": "stream",
     "text": [
      "import os\n",
      "from paddleocr import PaddleOCR, draw_ocr\n",
      "from PIL import Image\n",
      "\n",
      "here = os.path.dirname(os.path.realpath(__file__))\n",
      "\n",
      "def main():\n",
      "    ocr = PaddleOCR(use_angle_cls=True, lang='en')\n",
      "    img_path = f'{here}/img_12.jpg'\n",
      "    result = ocr.ocr(img_path, cls=True, rec=True)\n",
      "    image = Image.open(img_path).convert('RGB')\n",
      "    boxes = [line[0] for line in result]\n",
      "    txts = [line[1][0] for line in result]\n",
      "    scores = [line[1][1] for line in result]\n",
      "    im_show = draw_ocr(image, boxes, txts, scores, font_path=f'{here}/simfang.ttf')\n",
      "    im_show = Image.fromarray(im_show)\n",
      "    im_show.save('result.jpg')\n",
      "\n",
      "if __name__ == \"__main__\":\n",
      "    main()\n"
     ]
    }
   ],
   "source": [
    "!cat main.py"
   ]
  },
  {
   "cell_type": "code",
   "execution_count": 1,
   "metadata": {},
   "outputs": [
    {
     "name": "stdout",
     "output_type": "stream",
     "text": [
      "[2022/04/10 00:03:14] ppocr DEBUG: Namespace(alpha=1.0, benchmark=False, beta=1.0, cls_batch_num=6, cls_image_shape='3, 48, 192', cls_model_dir='/home/ubuntu/.paddleocr/whl/cls/ch_ppocr_mobile_v2.0_cls_infer', cls_thresh=0.9, cpu_threads=10, crop_res_save_dir='./output', det=True, det_algorithm='DB', det_db_box_thresh=0.6, det_db_score_mode='fast', det_db_thresh=0.3, det_db_unclip_ratio=1.5, det_east_cover_thresh=0.1, det_east_nms_thresh=0.2, det_east_score_thresh=0.8, det_fce_box_type='poly', det_limit_side_len=960, det_limit_type='max', det_model_dir='/home/ubuntu/.paddleocr/whl/det/en/en_ppocr_mobile_v2.0_det_infer', det_pse_box_thresh=0.85, det_pse_box_type='quad', det_pse_min_area=16, det_pse_scale=1, det_pse_thresh=0, det_sast_nms_thresh=0.2, det_sast_polygon=False, det_sast_score_thresh=0.5, draw_img_save_dir='./inference_results', drop_score=0.5, e2e_algorithm='PGNet', e2e_char_dict_path='./ppocr/utils/ic15_dict.txt', e2e_limit_side_len=768, e2e_limit_type='max', e2e_model_dir=None, e2e_pgnet_mode='fast', e2e_pgnet_score_thresh=0.5, e2e_pgnet_valid_set='totaltext', enable_mkldnn=False, fourier_degree=5, gpu_mem=500, help='==SUPPRESS==', image_dir=None, ir_optim=True, label_list=['0', '180'], lang='en', layout_label_map=None, layout_path_model='lp://PubLayNet/ppyolov2_r50vd_dcn_365e_publaynet/config', max_batch_size=10, max_text_length=25, min_subgraph_size=15, mode='structure', ocr_version='PP-OCRv2', output='./output', precision='fp32', process_id=0, rec=True, rec_algorithm='CRNN', rec_batch_num=6, rec_char_dict_path='/home/ubuntu/miniconda3/envs/hiq-python3.8/lib/python3.8/site-packages/paddleocr/ppocr/utils/en_dict.txt', rec_image_shape='3, 32, 320', rec_model_dir='/home/ubuntu/.paddleocr/whl/rec/en/en_number_mobile_v2.0_rec_infer', save_crop_res=False, save_log_path='./log_output/', scales=[8, 16, 32], show_log=True, structure_version='STRUCTURE', table_char_dict_path=None, table_char_type='en', table_max_len=488, table_model_dir=None, total_process_num=1, type='ocr', use_angle_cls=True, use_dilation=False, use_gpu=False, use_mp=False, use_onnx=False, use_pdserving=False, use_space_char=True, use_tensorrt=False, vis_font_path='./doc/fonts/simfang.ttf', warmup=False)\n",
      "<bound method HiQBase.inserter.<locals>.__x of <tools.infer.predict_det.TextDetector object at 0x7fba2424eb80>>\n",
      "[2022/04/10 00:03:14] ppocr DEBUG: dt_boxes num : 11, elapse : 0.3473200798034668\n",
      "[2022/04/10 00:03:14] ppocr DEBUG: cls num  : 11, elapse : 0.11752843856811523\n",
      "[2022/04/10 00:03:15] ppocr DEBUG: rec_res num  : 11, elapse : 0.45564866065979004\n",
      "[2022-04-10 00:03:14.091078 - 00:03:15.433136]  [100.00%] 🟢_root_time(1.3421)\n",
      "                                                            [OH:5233us]\n",
      "[2022-04-10 00:03:14.091078 - 00:03:14.471109]  [ 28.32%]    |___init(0.3800)\n",
      "[2022-04-10 00:03:14.095056 - 00:03:14.230000]  [ 10.06%]    |  |___create_predictor(0.1349)\n",
      "[2022-04-10 00:03:14.230637 - 00:03:14.351347]  [  8.99%]    |  |___create_predictor(0.1207)\n",
      "[2022-04-10 00:03:14.351761 - 00:03:14.470838]  [  8.87%]    |  l___create_predictor(0.1191)\n",
      "[2022-04-10 00:03:14.471279 - 00:03:15.433136]  [ 71.67%]    l___ocr(0.9619)\n",
      "[2022-04-10 00:03:14.492249 - 00:03:15.432890]  [ 70.09%]       l___txt_model(0.9406)\n",
      "[2022-04-10 00:03:14.493499 - 00:03:14.842928]  [ 26.04%]          |___det_model(0.3494)\n",
      "[2022-04-10 00:03:14.519782 - 00:03:14.833834]  [ 23.40%]          |  l_paddle_run(0.3141)\n",
      "[2022-04-10 00:03:14.857044 - 00:03:14.975003]  [  8.79%]          |___cls_model(0.1180)\n",
      "[2022-04-10 00:03:14.858341 - 00:03:14.906858]  [  3.62%]          |  |_paddle_run(0.0485)\n",
      "[2022-04-10 00:03:14.908210 - 00:03:14.974764]  [  4.96%]          |  l_paddle_run(0.0666)\n",
      "[2022-04-10 00:03:14.976064 - 00:03:15.431878]  [ 33.96%]          l___rec_model(0.4558)\n",
      "[2022-04-10 00:03:14.978749 - 00:03:15.205511]  [ 16.90%]             |_paddle_run(0.2268)\n",
      "[2022-04-10 00:03:15.208150 - 00:03:15.430958]  [ 16.60%]             l_paddle_run(0.2228)\n",
      "\n",
      "                                                [     293.305 -      623.367]  [100.00%] 🟢_root_get_memory_mb(330.0625)\n",
      "[2022-04-10 00:03:14.091094 - 00:03:14.471113]  [     293.305 -      398.262]  [ 31.80%]    |___init(104.9570)\n",
      "[2022-04-10 00:03:14.095065 - 00:03:14.230024]  [     293.426 -      341.051]  [ 14.43%]    |  |___create_predictor(47.6250)\n",
      "[2022-04-10 00:03:14.230647 - 00:03:14.351370]  [     341.051 -      369.918]  [  8.75%]    |  |___create_predictor(28.8672)\n",
      "[2022-04-10 00:03:14.351772 - 00:03:14.470861]  [     369.918 -      398.262]  [  8.59%]    |  l___create_predictor(28.3438)\n",
      "[2022-04-10 00:03:14.471288 - 00:03:15.433141]  [     398.262 -      623.367]  [ 68.20%]    l___ocr(225.1055)\n",
      "[2022-04-10 00:03:14.492258 - 00:03:15.432898]  [     404.426 -      627.801]  [ 67.68%]       l___txt_model(223.3750)\n",
      "[2022-04-10 00:03:14.493505 - 00:03:14.842939]  [     408.480 -      623.586]  [ 65.17%]          |___det_model(215.1055)\n",
      "[2022-04-10 00:03:14.519801 - 00:03:14.833860]  [     434.949 -      641.613]  [ 62.61%]          |  l_paddle_run(206.6641)\n",
      "[2022-04-10 00:03:14.976073 - 00:03:15.431885]  [     623.586 -      627.801]  [  1.28%]          l___rec_model(4.2148)\n",
      "[2022-04-10 00:03:15.208163 - 00:03:15.430983]  [     627.547 -      627.801]  [  0.08%]             l_paddle_run(0.2539)\n",
      "\n"
     ]
    }
   ],
   "source": [
    "import hiq\n",
    "from hiq.framework.paddleocr import PaddleOcrHiQMemory\n",
    "\n",
    "driver = PaddleOcrHiQMemory(attach_timestamp=True)\n",
    "hiq.mod(\"main\").main()\n",
    "driver.show()"
   ]
  },
  {
   "cell_type": "code",
   "execution_count": 2,
   "metadata": {},
   "outputs": [
    {
     "data": {
      "image/png": "[encoded data removed]",
      "text/plain": [
       "<IPython.core.display.Image object>"
      ]
     },
     "execution_count": 2,
     "metadata": {},
     "output_type": "execute_result"
    }
   ],
   "source": [
    "from hiq import KEY_MEMORY\n",
    "from IPython.display import Image\n",
    "t = driver.get_metrics(metrics_key=KEY_MEMORY)[0]\n",
    "Image(t.to_img())"
   ]
  },
  {
   "cell_type": "code",
   "execution_count": 3,
   "metadata": {},
   "outputs": [
    {
     "name": "stdout",
     "output_type": "stream",
     "text": [
      "[     293.305 -      623.367]  [100.00%] 🟢_root_get_memory_mb(330.0625)\n",
      "[     293.305 -      398.262]  [ 31.80%]    |___init(104.9570)\n",
      "[     293.426 -      341.051]  [ 14.43%]    |  |___create_predictor(47.6250)\n",
      "[     341.051 -      369.918]  [  8.75%]    |  |___create_predictor(28.8672)\n",
      "[     369.918 -      398.262]  [  8.59%]    |  l___create_predictor(28.3438)\n",
      "[     398.262 -      623.367]  [ 68.20%]    l___ocr(225.1055)\n",
      "[     404.426 -      627.801]  [ 67.68%]       l___txt_model(223.3750)\n",
      "[     408.480 -      623.586]  [ 65.17%]          |___det_model(215.1055)\n",
      "[     434.949 -      641.613]  [ 62.61%]          |  l_paddle_run(206.6641)\n",
      "[     623.586 -      627.801]  [  1.28%]          l___rec_model(4.2148)\n",
      "[     627.547 -      627.801]  [  0.08%]             l_paddle_run(0.2539)\n",
      "\n"
     ]
    }
   ],
   "source": [
    "t.show()"
   ]
  }
 ],
 "metadata": {
  "interpreter": {
   "hash": "dc28e5aa4e017052964bd3b47e351639e8512f6679628f29d834b1eb4f030536"
  },
  "kernelspec": {
   "display_name": "Python 3.8.13 ('hiq-python3.8')",
   "language": "python",
   "name": "python3"
  },
  "language_info": {
   "codemirror_mode": {
    "name": "ipython",
    "version": 3
   },
   "file_extension": ".py",
   "mimetype": "text/x-python",
   "name": "python",
   "nbconvert_exporter": "python",
   "pygments_lexer": "ipython3",
   "version": "3.8.13"
  },
  "orig_nbformat": 4
 },
 "nbformat": 4,
 "nbformat_minor": 2
}
